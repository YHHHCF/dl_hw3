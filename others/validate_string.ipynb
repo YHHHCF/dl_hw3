{
 "cells": [
  {
   "cell_type": "code",
   "execution_count": 1,
   "metadata": {},
   "outputs": [
    {
     "name": "stdout",
     "output_type": "stream",
     "text": [
      "47\n",
      "46\n",
      "['_', '+', '~', '!', '-', '@', 'a', 'A', 'h', 'o', 'w', 'y', 'b', 'c', 'd', 'D', 'e', 'r', 'E', 'f', 'g', 'H', 'i', 'I', 'j', 'k', 'l', 'm', 'n', 'G', 'O', 'Y', 'p', 'R', 's', 'S', '.', 't', 'T', 'u', 'U', 'v', 'W', '?', 'z', 'Z', '%']\n"
     ]
    },
    {
     "data": {
      "text/plain": [
       "PackedPhonModel(\n",
       "  (rnn): LSTM(40, 512, num_layers=4, bidirectional=True)\n",
       "  (scoring1): Linear(in_features=1024, out_features=1024, bias=True)\n",
       "  (scoring2): Linear(in_features=1024, out_features=47, bias=True)\n",
       "  (lsm): LogSoftmax()\n",
       ")"
      ]
     },
     "execution_count": 1,
     "metadata": {},
     "output_type": "execute_result"
    }
   ],
   "source": [
    "import torch\n",
    "import torch.nn as nn\n",
    "import numpy as np\n",
    "import phoneme_list as pl\n",
    "from train import PhonDataset, collate_phon, PackedPhonModel, load_ckpt\n",
    "import Levenshtein as L\n",
    "from torch.utils.data import Dataset, DataLoader, TensorDataset\n",
    "from ctcdecode import CTCBeamDecoder\n",
    "\n",
    "\n",
    "# the p_map list\n",
    "p_map = pl.PHONEME_MAP\n",
    "p_map.append('%')\n",
    "print(len(p_map))\n",
    "print(p_map.index('%'))\n",
    "print(p_map)\n",
    "\n",
    "\n",
    "# validation loader\n",
    "val_data_path = './../data/wsj0_dev.npy'\n",
    "val_label_path = './../data/wsj0_dev_merged_labels.npy'\n",
    "val_data = np.load(val_data_path, encoding='bytes')\n",
    "val_label = np.load(val_label_path)\n",
    "val_dataset = PhonDataset(val_data, val_label)\n",
    "val_loader = DataLoader(val_dataset, shuffle=False, batch_size=1, collate_fn=collate_phon)\n",
    "\n",
    "\n",
    "# load model\n",
    "DEVICE = \"cuda\" if torch.cuda.is_available() else \"cpu\"\n",
    "\n",
    "path = './../result/id_0'\n",
    "model, _ = load_ckpt(path)\n",
    "model.to(DEVICE)\n",
    "\n"
   ]
  },
  {
   "cell_type": "code",
   "execution_count": 13,
   "metadata": {},
   "outputs": [
    {
     "name": "stdout",
     "output_type": "stream",
     "text": [
      "prediction string:\n",
      "DnUzbRphhhhhhhhhhhhhhhhhhhhhhsssWHhHHssppp~p~~gWptRlADUHp~ddbbRm~WrhzRzZuu@@tbyu~EOtonAtovbd@+ph+t?~?ehTnWO?aa?Gpi__haYsYmsWatajijbiWWaWooYaEhg_hjcljSlczD__ip_nWOHbbhHooEuuUEIIntmkir~DpDi~Z~~hRDDh~enudtSSunHkz~rrsrtueAezp!wbgdkOipetD?p+bZS?SdYcDy._sfgw!I.SkfiiddDk++UAccvrm+yjm+wAkjApkkcToEfDfDDY+w!GTrn.EYv+fzka-jzjGaugvSbE+vfl+zds++SvyvH?_ZsbhfAAzvvEajnuRuGZZcpggfvm+fv+SkY-Yi__arusUwZvf_!ZUUkpmwlvwOwSwYYOYOuOuOuOumumumuOuOuOuOuOuOYgY?za\n",
      "\n",
      "label string:\n",
      ".DhfImElpRhdUsizhlitrhvtUtifoR?hGinnOvembrAnddisembr_.\n",
      "\n",
      "distance: 410\n",
      "\n",
      "prediction string:\n",
      "ZASo_nphphhhhhhhhhhhhhhhhhhhhhhhhhhhhhhhhhhhhhhRRphhhbhhhhdh@??nuGUgIbWtWhAOAnn@hZW~.R.u~@WOEnEErrnZhk!zkUkhtvYuHOiiuunznsc~SeTZ.hU@W@AOIAb@ff~RDb~YW@OeHOOOOOHHhotOsSUAlzzgkjHceff.!+ddddaewRRRllHOOouy@lHWpdbuIurhdRzEijkZk~SvDjf@h@UUuoAGb~v@~meOIfj!!~DTjkgfrD~iiUhhulouuAt?eH~~ShUuOEuU@Tpp.@tru?OARrh.!!deeeediy@r@nlitdn@++.bbbbDYeylz+Dk+tfDy@@@YHOOlHw@@dTZZ.effidtrlIUO@nRDybh@@eheYn@@iHR?Usjdj~DvdmY~YEude~ng@ppphkiifkpkpRbRdddRRRRRRRRRRRRRRRRRRRRRRRRRRRRRbbbdRRWp.\n",
      "\n",
      "label string:\n",
      ".!nUmrhsWrkshvaRt@rbEstanDhstoRIhvDhsAkRhfyshvyzhk!.\n",
      "\n",
      "distance: 436\n",
      "\n",
      "prediction string:\n",
      "ZASo_n!e.jj.jj.njEjGGGGGGGGGGGGGGGGGGGGGGGGGGGGGGGGGGGGGGGGGGGGGGEEEEEEEEGGzSmssWjje!W.h!bsYYsbbYYoUmHAIUd.?mHOWre?lnnuffIIIcU~ZDInAdgb@yWGoccR__hYrkUGHjEojslsjTelrOn@an~@EEuwaEEIAAvdIIrkd!DDn~.++WhuHOIUWt~bha~w@@ehmmWYwtnHHuAUnzf~meEscskj__jcoaaaaaaoYYooEEzRkjhoSvweDGwRGpIbaHoYHzO?_kIoO?_bU_smecDEjhgcadtoOUOEIIzGGGG_zjIIIIEEzzzzGjjj???jjj.YWWWWmYWEYzEGzjjSSwzk_kWoWWWEEIIIGGGEE__gWbbmYWoYYYo_DsAz.e_jh.WSWWSpYh__h__lSslkG?kk?__iccaoooooawmOGmOzzzzkkpbp.?oWbbWbYYooWWYYYYWaaaYmmyyyeGGGGGGGGGGGGGGGGGGGGGGGGGGGGGGGGGGGGGEEEEEe-\n",
      "\n",
      "label string:\n",
      ".DeRshlUShnRIkWyrzdivelhpmhnthvDI?UmhnkhpAsitIfrsOShlintRhst.\n",
      "\n",
      "distance: 499\n",
      "\n"
     ]
    }
   ],
   "source": [
    "# show string\n",
    "decoder = CTCBeamDecoder(p_map, beam_width=100, blank_id=p_map.index('%'))\n",
    "\n",
    "with torch.no_grad():\n",
    "    cnt = 0\n",
    "    for inputs, targets in val_loader:\n",
    "        cnt += 1\n",
    "        if cnt > 3:\n",
    "            break\n",
    "        output = model(inputs)\n",
    "        sp = output.shape\n",
    "        output = output.reshape((sp[0], sp[2]))\n",
    "        output = output.cpu().numpy()\n",
    "        \n",
    "        # output of the network is N * 47, N is the length of input\n",
    "#         print(\"output shape:\", output.shape)\n",
    "        \n",
    "        # 1 * N * 47 list made from output\n",
    "        probs_seq = torch.FloatTensor([output])\n",
    "        \n",
    "        output, _, _, out_seq_len = decoder.decode(probs_seq)\n",
    "        \n",
    "        # out_seq_len is a list of the decode output length of 100 results\n",
    "#         print(\"out_seq_len shape\", out_seq_len.shape)\n",
    "#         print(\"out_seq_len content\", out_seq_len)\n",
    "        \n",
    "        # output contains 100 decoded results, each decoded result is an integer list\n",
    "        # each integer in the list is the index corresponding to p_map\n",
    "#         print(\"output shape\", output.shape)\n",
    "#         print(\"first output content\", output[0, 0])\n",
    "        \n",
    "        for i in range(output.size(0)):\n",
    "            pred = \"\".join(p_map[o] for o in output[i, 0, :out_seq_len[i, 0]])\n",
    "        \n",
    "        true = \"\".join(p_map[o] for o in targets[0])\n",
    "\n",
    "        dis = L.distance(pred, true)\n",
    "        \n",
    "        print(\"prediction string:\")\n",
    "        print(pred)\n",
    "        print(\"\")\n",
    "        \n",
    "        print(\"label string:\")\n",
    "        print(true)\n",
    "        print(\"\")\n",
    "        \n",
    "        print(\"distance:\", dis)\n",
    "        print(\"\")"
   ]
  },
  {
   "cell_type": "code",
   "execution_count": null,
   "metadata": {},
   "outputs": [],
   "source": []
  }
 ],
 "metadata": {
  "kernelspec": {
   "display_name": "Python 3",
   "language": "python",
   "name": "python3"
  },
  "language_info": {
   "codemirror_mode": {
    "name": "ipython",
    "version": 3
   },
   "file_extension": ".py",
   "mimetype": "text/x-python",
   "name": "python",
   "nbconvert_exporter": "python",
   "pygments_lexer": "ipython3",
   "version": "3.7.1"
  }
 },
 "nbformat": 4,
 "nbformat_minor": 2
}
