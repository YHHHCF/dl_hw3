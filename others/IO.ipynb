{
 "cells": [
  {
   "cell_type": "code",
   "execution_count": 1,
   "metadata": {},
   "outputs": [],
   "source": [
    "import numpy as np"
   ]
  },
  {
   "cell_type": "code",
   "execution_count": 2,
   "metadata": {},
   "outputs": [],
   "source": [
    "train_data_path = './../data/wsj0_train.npy'\n",
    "train_label_path = './../data/wsj0_train_merged_labels.npy'\n",
    "\n",
    "val_data_path = './../data/wsj0_dev.npy'\n",
    "val_label_path = './../data/wsj0_dev_merged_labels.npy'\n",
    "\n",
    "test_data_path = './../data/transformed_test_data.npy'"
   ]
  },
  {
   "cell_type": "code",
   "execution_count": 25,
   "metadata": {},
   "outputs": [],
   "source": [
    "train_data = np.load(train_data_path, encoding='bytes')\n",
    "train_label = np.load(train_label_path)\n",
    "\n",
    "val_data = np.load(val_data_path, encoding='bytes')\n",
    "val_label = np.load(val_label_path)\n",
    "\n",
    "test_data = np.load(test_data_path)"
   ]
  },
  {
   "cell_type": "code",
   "execution_count": 26,
   "metadata": {},
   "outputs": [],
   "source": [
    "def show_metric(x):\n",
    "    print(\"\")\n",
    "    print(\"show metric\")\n",
    "    print(\"shape\", x.shape)\n",
    "    print(\"max\", np.max(x))\n",
    "    print(\"min\", np.min(x))\n",
    "    print(\"\")"
   ]
  },
  {
   "cell_type": "code",
   "execution_count": 27,
   "metadata": {},
   "outputs": [
    {
     "name": "stdout",
     "output_type": "stream",
     "text": [
      "train data\n",
      "24724\n",
      "(477, 40)\n",
      "\n",
      "show metric\n",
      "shape (442, 40)\n",
      "max 8.916416\n",
      "min -10.749874\n",
      "\n",
      "train label\n",
      "24724\n",
      "(57,)\n",
      "\n",
      "show metric\n",
      "shape (52,)\n",
      "max 44\n",
      "min 3\n",
      "\n"
     ]
    }
   ],
   "source": [
    "# train data\n",
    "print(\"train data\")\n",
    "print(len(train_data))\n",
    "print(train_data[0].shape)\n",
    "show_metric(train_data[1])\n",
    "\n",
    "print(\"train label\")\n",
    "print(len(train_label))\n",
    "print(train_label[0].shape)\n",
    "show_metric(train_label[1])"
   ]
  },
  {
   "cell_type": "code",
   "execution_count": 28,
   "metadata": {},
   "outputs": [
    {
     "name": "stdout",
     "output_type": "stream",
     "text": [
      "val data\n",
      "1106\n",
      "(440, 40)\n",
      "\n",
      "show metric\n",
      "shape (466, 40)\n",
      "max 8.827771\n",
      "min -7.9669676\n",
      "\n",
      "val label\n",
      "1106\n",
      "(54,)\n",
      "\n",
      "show metric\n",
      "shape (52,)\n",
      "max 44\n",
      "min 3\n",
      "\n"
     ]
    }
   ],
   "source": [
    "# val data\n",
    "print(\"val data\")\n",
    "print(len(val_data))\n",
    "print(val_data[0].shape)\n",
    "show_metric(val_data[1])\n",
    "\n",
    "print(\"val label\")\n",
    "print(len(val_label))\n",
    "print(val_label[0].shape)\n",
    "show_metric(val_label[1])"
   ]
  },
  {
   "cell_type": "code",
   "execution_count": 29,
   "metadata": {},
   "outputs": [
    {
     "name": "stdout",
     "output_type": "stream",
     "text": [
      "test data\n",
      "523\n",
      "(542, 40)\n",
      "\n",
      "show metric\n",
      "shape (681, 40)\n",
      "max 11.151332255162613\n",
      "min -11.771964492261247\n",
      "\n"
     ]
    }
   ],
   "source": [
    "# test data\n",
    "print(\"test data\")\n",
    "print(len(test_data))\n",
    "print(test_data[0].shape)\n",
    "show_metric(test_data[1])"
   ]
  },
  {
   "cell_type": "code",
   "execution_count": null,
   "metadata": {},
   "outputs": [],
   "source": []
  }
 ],
 "metadata": {
  "kernelspec": {
   "display_name": "Python 3",
   "language": "python",
   "name": "python3"
  },
  "language_info": {
   "codemirror_mode": {
    "name": "ipython",
    "version": 3
   },
   "file_extension": ".py",
   "mimetype": "text/x-python",
   "name": "python",
   "nbconvert_exporter": "python",
   "pygments_lexer": "ipython3",
   "version": "3.7.1"
  }
 },
 "nbformat": 4,
 "nbformat_minor": 2
}
