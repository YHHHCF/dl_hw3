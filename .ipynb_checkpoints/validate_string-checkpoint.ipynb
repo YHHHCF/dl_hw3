{
 "cells": [
  {
   "cell_type": "code",
   "execution_count": 12,
   "metadata": {},
   "outputs": [],
   "source": [
    "import torch\n",
    "import torch.nn as nn\n",
    "import numpy as np\n",
    "import phoneme_list as pl\n",
    "from train import PhonDataset, collate_phon, PackedPhonModel, load_ckpt\n",
    "import Levenshtein as L\n",
    "from torch.utils.data import Dataset, DataLoader, TensorDataset\n",
    "from ctcdecode import CTCBeamDecoder"
   ]
  },
  {
   "cell_type": "code",
   "execution_count": 2,
   "metadata": {},
   "outputs": [
    {
     "name": "stdout",
     "output_type": "stream",
     "text": [
      "47\n",
      "46\n",
      "['_', '+', '~', '!', '-', '@', 'a', 'A', 'h', 'o', 'w', 'y', 'b', 'c', 'd', 'D', 'e', 'r', 'E', 'f', 'g', 'H', 'i', 'I', 'j', 'k', 'l', 'm', 'n', 'G', 'O', 'Y', 'p', 'R', 's', 'S', '.', 't', 'T', 'u', 'U', 'v', 'W', '?', 'z', 'Z', '%']\n"
     ]
    }
   ],
   "source": [
    "# tokens is the list of vocab index predicted\n",
    "# vocab is the vocabulary map\n",
    "def convert_to_string(tokens, vocab, seq_len):\n",
    "    print(seq_len)\n",
    "    return ''.join([vocab[x] for x in tokens[0:seq_len]])\n",
    "\n",
    "# the list\n",
    "p_map = pl.PHONEME_MAP\n",
    "p_map.append('%')\n",
    "print(len(p_map))\n",
    "print(p_map.index('%'))\n",
    "print(p_map)"
   ]
  },
  {
   "cell_type": "code",
   "execution_count": 9,
   "metadata": {},
   "outputs": [
    {
     "data": {
      "text/plain": [
       "PackedPhonModel(\n",
       "  (rnn): LSTM(40, 512, num_layers=4, bidirectional=True)\n",
       "  (scoring1): Linear(in_features=1024, out_features=1024, bias=True)\n",
       "  (scoring2): Linear(in_features=1024, out_features=47, bias=True)\n",
       "  (lsm): LogSoftmax()\n",
       ")"
      ]
     },
     "execution_count": 9,
     "metadata": {},
     "output_type": "execute_result"
    }
   ],
   "source": [
    "# load model\n",
    "DEVICE = \"cuda\" if torch.cuda.is_available() else \"cpu\"\n",
    "\n",
    "path = './../result/id_0'\n",
    "model, _ = load_ckpt(path)\n",
    "model.to(DEVICE)"
   ]
  },
  {
   "cell_type": "code",
   "execution_count": 10,
   "metadata": {},
   "outputs": [],
   "source": [
    "# validation loader\n",
    "val_data_path = './../data/wsj0_dev.npy'\n",
    "val_label_path = './../data/wsj0_dev_merged_labels.npy'\n",
    "val_data = np.load(val_data_path, encoding='bytes')\n",
    "val_label = np.load(val_label_path)\n",
    "val_dataset = PhonDataset(val_data, val_label)\n",
    "val_loader = DataLoader(val_dataset, shuffle=False, batch_size=1, collate_fn=collate_phon)"
   ]
  },
  {
   "cell_type": "code",
   "execution_count": 13,
   "metadata": {},
   "outputs": [
    {
     "name": "stdout",
     "output_type": "stream",
     "text": [
      "(440, 47)\n",
      "torch.Size([440, 47])\n",
      "DnUzbRphhhhhhhhhhhhhhhhhhhhhhsssWHhHHssppp~p~~gWptRlADUHp~ddbbRm~WrhzRzZuu@@tbyu~EOtonAtovbd@+ph+t?~?ehTnWO?aa?Gpi__haYsYmsWatajijbiWWaWooYaEhg_hjcljSlczD__ip_nWOHbbhHooEuuUEIIntmkir~DpDi~Z~~hRDDh~enudtSSunHkz~rrsrtueAezp!wbgdkOipetD?p+bZS?SdYcDy._sfgw!I.SkfiiddDk++UAccvrm+yjm+wAkjApkkcToEfDfDDY+w!GTrn.EYv+fzka-jzjGaugvSbE+vfl+zds++SvyvH?_ZsbhfAAzvvEajnuRuGZZcpggfvm+fv+SkY-Yi__arusUwZvf_!ZUUkpmwlvwOwSwYYOYOuOuOuOumumumuOuOuOuOuOuOYgY?za\n",
      "(466, 47)\n",
      "torch.Size([466, 47])\n",
      "ZASo_nphphhhhhhhhhhhhhhhhhhhhhhhhhhhhhhhhhhhhhhRRphhhbhhhhdh@??nuGUgIbWtWhAOAnn@hZW~.R.u~@WOEnEErrnZhk!zkUkhtvYuHOiiuunznsc~SeTZ.hU@W@AOIAb@ff~RDb~YW@OeHOOOOOHHhotOsSUAlzzgkjHceff.!+ddddaewRRRllHOOouy@lHWpdbuIurhdRzEijkZk~SvDjf@h@UUuoAGb~v@~meOIfj!!~DTjkgfrD~iiUhhulouuAt?eH~~ShUuOEuU@Tpp.@tru?OARrh.!!deeeediy@r@nlitdn@++.bbbbDYeylz+Dk+tfDy@@@YHOOlHw@@dTZZ.effidtrlIUO@nRDybh@@eheYn@@iHR?Usjdj~DvdmY~YEude~ng@ppphkiifkpkpRbRdddRRRRRRRRRRRRRRRRRRRRRRRRRRRRRbbbdRRWp.\n",
      "(528, 47)\n",
      "torch.Size([528, 47])\n",
      "ZASo_n!e.jj.jj.njEjGGGGGGGGGGGGGGGGGGGGGGGGGGGGGGGGGGGGGGGGGGGGGGEEEEEEEEGGzSmssWjje!W.h!bsYYsbbYYoUmHAIUd.?mHOWre?lnnuffIIIcU~ZDInAdgb@yWGoccR__hYrkUGHjEojslsjTelrOn@an~@EEuwaEEIAAvdIIrkd!DDn~.++WhuHOIUWt~bha~w@@ehmmWYwtnHHuAUnzf~meEscskj__jcoaaaaaaoYYooEEzRkjhoSvweDGwRGpIbaHoYHzO?_kIoO?_bU_smecDEjhgcadtoOUOEIIzGGGG_zjIIIIEEzzzzGjjj???jjj.YWWWWmYWEYzEGzjjSSwzk_kWoWWWEEIIIGGGEE__gWbbmYWoYYYo_DsAz.e_jh.WSWWSpYh__h__lSslkG?kk?__iccaoooooawmOGmOzzzzkkpbp.?oWbbWbYYooWWYYYYWaaaYmmyyyeGGGGGGGGGGGGGGGGGGGGGGGGGGGGGGGGGGGGGEEEEEe-\n",
      "(482, 47)\n",
      "torch.Size([482, 47])\n",
      "ZjSo_n_n.njEjGGGGGGGGGGGGGGGGGGGGGGGGGGGGGGGGGGGGEEEEEEEEEEIGOGzzOzkkpp..boooYyyEEssEEESccccc??jS.WWWWmWWWoYoaE_zpooReyWz_mfs?Oaip.hEIfIYDGjhz.kIEHEzHjjG__jA@zivH~@~v._HS@+Wy~@Wrwteenn~@IttmAkk~n_zj~DUridhHEEU@~k?lfm@lIyk+gffptssAg+bt+fw~yO@@AbdldDIWzGWE_iZtRHGUHjjHOOHOTRp_ETpboWWWWWWWWYppppp_pjccarawowwwwoWWYmyyEpzHzGWSEG__gbbWYWWWWWWYYaoaaGmmzG__!..-?HGU~euGnnSijvT@fd~DInOg!m.g~dt@l?prDHWAsytHHaASyuaUEudETsS?T~U@dieAaURI@g.Atddw@ntd~~hHyiwhlfRule@bHlWt.bUbYuywAmntROTSkkkk~@@.\n",
      "(496, 47)\n",
      "torch.Size([496, 47])\n",
      "YjSo_n!e.jj.ejEjGGGGGGGGGGGGGGGGGGGGGGGGGGGGGGGGEEEEEEEEEEEEEEOzGGGssswkpk_ocareEeeGEEkkG_fpoaaabYYYYmWbboYoY_jjg.oowz_OZnf~zZddZu~hhHyyyUuEOAAaoyIvjIIIIII?UU~IIm~rddtHzfvt+foiuEltrTIddT+v.gbaDbbyAuiuwtyRDldRv@@oHIIa@r@hiEyl@Aoob@bmurrrhzGjdS~A~d!Td~kWttouhhHayOuuEymG?g.We~EEI@z?z@~!!c+!.ktRfheyrl@AmnhYtwy@eO@g@td@huli_pbWbbboOpp_bcaooooYammmYYmEjjzEs__jppcccccccccjjjjjEcSEaaawwwoWoWoooEYYIGGGGEEEwmWWmYWWoYzjjj_...oOomOmOppbb_gc.bWWYyeeccEccScc_jg.rajjEcccseSeeGGGGjccSjjcGGGGGzGGGGDTTWWWWWWe\n",
      "(476, 47)\n",
      "torch.Size([476, 47])\n",
      "ZjSo_n!e.njEjGGGGGGGGGGGGGGGGGGGGGGGGGGGGGGGGGGGGGGGEEGGGEEEEEEEEEEEEEGSSzzEG__?UIIGGEEEEjzzjjjzzzzz??j?fEfYWmYoYj_Hzze_?h.!sYYsmohYzmSSWGjGj!.TppooYcSSSGkGkbdhS~iZZhhZ!AA~lW~tleOlRodWevnR?YiuoaEiaEnEtvIHGII~g~f.khSDis@klmUhRhAarRiwkg.bddtbuHInfcrkHT?i@h@DAAsss?nz.UUuuHOhHOollwA@Gj@pDEOt@+dcpiDkvTcked~dd~ggjDiiDf~iAhuauIOggUW?UeRrwtWYbtbh~yYwOAAhhAAAAivk_TpTH~~~~Us~?EaarOOwG_v~++~ATrHddziifd~DAAerZi!S.DlT+D+k+lfb~AWl@htytawyimTg+@~DOg@ss.tW+AAfwwAHel@Anowvalp@~d~In+@bDR+.\n",
      "(502, 47)\n",
      "torch.Size([502, 47])\n",
      "RjczSev@IbE@AeWj+GY!evSZwdWyyZcp__TE!sDlkggUi+++diiUgpgppdUDrRhyW_Y!E!gjlcOgUYssl+gOllTInAuD.cR?rungfdsZ+skUUZZkmY+k+D+H+aIAw_AbDIfvS++kbfkIkbpAilvUE@pp_Znzacmisbvv++Z!A_gbADARUEkkuUeYkpp.IvgifvZfkDv+-UhcmSOY+Iosk?_Z!YUEvOD?+ko+-ZmdWHdZUd@vmh?eOylllp~~@UOnOrr..kk~~ddnmdUDyyyH~jUEHudtHih+~kp+R?mDuuyyy@Dg~WttpH@d@AOII~m.nAArw@wYeuuOnzATdDgl~WbtUoyrhGi~ZZ~ddudIrZrkTTTT~pcp.if?RDeaaEm@gG~~lv@gWtf~yOAanGlh@gdd@pvsRaUHbb@bhW@uOinyRdkThihTkk.++~@knnT~@h@spdkWtRRRRRRRRRRRRRRRRRRRRRRRRRRRRRRRRRRRRRRRdRRtp.\n",
      "(399, 47)\n",
      "torch.Size([399, 47])\n",
      "IUOHtfDf.TTT.kTTkdded@+AdlewyOoliii@gll?HWtH?bWowoHOdddo~lltyyoynT!s~.TReTT.kkAHeT?hUDrtzdZrstTjS_~@TH!+lttdyuimwHhandyytyHyylweRI?.TZST!W@DUadcs+.hpttthtWf~eerl@nytYyDZWfhAayOUllnSHTrr~dlW~Hrdz~D@DuEEuOIv@HHm..rARU~vcTT+A?@t@iIA??ddSdGR@pvcT.IcjRruIEfe@+@~D+pRllleAaOyDjIjjjRhuIRti~cznszIstm@hHaI@rgD~D~mHuuYY@@@W@djifshvt?Dl@pbbhHh@ddeaw@nHnYoAAttAoEnHHZ~Uzi@htRu~i@@nvv.b~dddtdRRRRRRRRRRRRbRRWWd.\n",
      "(463, 47)\n",
      "torch.Size([463, 47])\n",
      "ZjcD~D~t@.pfh~bb@ybu@yYeYuuAAwwunEtzzZfiztjiZI~?oaUG@hz~~t@@G@@jf.!!RfulAOulewtrfGHGGHjIHIIHzzRTocaz?acch!ozbYoaYEjgg_bbWooYEjc_zalw@sShhTTTSTdTTHUDl~~~~b~wHOle@@e@tRvTk_.+DTRy@hrdehh??HGUtAgHI@nh~RzZZ~uAOdrvrZd!UUH~H?W?bRidHdhnesH.DcRrilDddyhrUhddGjniitfrczsnDtmeIRUOlggndewwrrOh@wllI@HGmg+WW~wHHAAwwE@h?G~EzjGz.DIU@@HEwwA~n+__H++p?h@Da~OlDbhp~fDdd.@ifch_jlj_R_kIpaoaeEccESSzkkpboooUEYYGGGyjjjzSzzzkkmGmpbbbmmggggc??dYy.Ge.nj.jj.jj.jj.jj.jj.jj.jj.jj.jj.nn.nn.eUZ\n",
      "(458, 47)\n",
      "torch.Size([458, 47])\n",
      "AjmW~b!agm.Rb@@OrnteDbbg@UnjERRdrIAlevuREhtIszrn@unWRbbD@EAARizGe+a+wvRlhl~lleYYYonenEEa@wd@DH~ld.AwelleRnoodDdtvDru@WoRrIZcffT?@dH_zh?SviIHIjRkgRGpEpoE__hWrtORbdZEZRthAIyUtdhUUrjchhHjct~ZnDHRADbl~?dUbDm~~hyeioOyzccgUduIOU?v.k.!iAh+DryowEtd@.!dd+zzj~Ssh~AEOekpmhdUUsRliHGii~H?@v?H@Ru@aOnEmv~.iuHZzijSSRtu~hhHaUAayyaAyaIlRH~kdtTldWd@UlHtzGdh~HEuAhl?z~~b_+DhDRkhof~Wuwna@gb~lp_H~~iriS.@~yoAAAhG~GtREjG.T+~~+_+@szzkpb~ddttRRRRRRRRRRRRdddddRRRRRRRRRRRRRRRRRRRWp.\n",
      "(427, 47)\n",
      "torch.Size([427, 47])\n",
      "wASo_n~SdbhphhhhhhhhhhhhhhhhhhhhhhhRRRRHpdddd+h@d.lWv.d?~DHiAye@fn_H~.rrglmdRmUOOlszDzrIz~Dm~@H?OoAwSlSjljcG_kpfWWoooaYc__cjSSaesssz_j.?WaooosrrapGmjjzzz?jjj?vffifthUZIGR@aAiuAyoDTdc@Tv+it@@urinoetllenamylkZhekADTjk+hRt?Ov@DThtDDk+Rf~AAHOl@o@r@T@@@Ti@nRraaaYmYWWYoYYwz__GggbbYYYYWWWYRUUGGGOmzmjjzzzzz?j.ostwkHGpEWYiYYtOosWWtaa?k_R_pR_pkfoooopaapooooYbWWWYWWWYWaammmmkk_jTTcfarHo?ch__O??hESmssHesHccRTjTGzzz.WWaab~TIIEdRmv!!vtv.\n",
      "(481, 47)\n",
      "torch.Size([481, 47])\n",
      "ZnYD~hT!v++!@R?l~DaUiOIyUull~blduUflA@~+vSvvW~UAUyAasOSEfcT.dTTefj.@d+sry~YYreH@IIHGUOgg@t~dre?m~@Gt@@tRiDnEduE~ShHHSSSOoAaUoIysSUrddd~TTvnTmb@rW?Ab~~~aeyEOuzdd++.+t+bbll~lry@md@mdt.aYYUmo@nc+.pkyD?DeraEEev~m?~?II@Hv!fa~YueAeAnnnwWd@hv_!.iahRSlcch??lIIHEEHjOHjjAG_AzzwcchUUpIwcYYSOY?mbRgTT.WraeEeIGSzzzzccccccccjjjaOOEjGzzzzGjjjjzccccccj_cooooooYgcboooooYYcc_jgjWEYYGj?UUIIGEEGGGGzzzjzzccccccjSaeeccSSOGEEnnggDpWoWbWWabbYWWWWYYWooYYYWWEYyyeeeGGGGGGGGGGGGGGGGGGGGGGGGGGGGGGGEEEEEGe-\n",
      "(576, 47)\n",
      "torch.Size([576, 47])\n",
      "ZASzbhpRRhhhhhhhhhhhhhhhhhhhhhhhhhhhhhhhhhhhHWfbDD@~.itTlt~d~AWUukr__Sezni+eawrr@hhyttmwkH+~@~+D.k+DSh@?WuE@nytnottyy@DnD~?hArHYhhieed@@Hmn@tD@ruR@d~ddn~nEEytSZjOY?bbr~utTdc.+p@rWIrhHUUrSeztsHitfjIcUzeRmlv?G.UuuimywWdhbt.DuiEAuhddS?uUAUD.RjhhRRRu~wUrUUu@mU@lglI@ARUuu@ollt@Rv@+++d~.o.laDmbuliuEuwuuAayzsfg~ppppptphtphRyyhDeaytrZf~.!.m~~Ha@ya~YWoOnrA@gGHi?Gh@lmIDaoH@hllroatlHHfHjcUztuuvvI~ll.RuueeaRDDl.~gvp.hAuwOhllthHerwiA@@@D+ddk?ta+?friEi@@R@nikreTdATj?nIsr~AGEI~@Wv~t@DWlotOD~~~~~mhHr@OhhOyehhuuuunmGRzT+p+kd!r++dddd~szzkk~dWtRRRRRRRRRRRRRRRRRRddddddRdddRRRRRRRRbbbbbRtp.\n",
      "(480, 47)\n",
      "torch.Size([480, 47])\n",
      "ks-~nEnpz.fIZffIUUEyranhiHyGUtEmkhzkhd@..Wt~?HaEEusyuuuuOSZnnRhIRhUEIROrZdi..n@tuAnzhtftHIrtU~~ZdrI?EOnka+DT_pjgzzi~sreIOAedUiZ~!flDyW@HE@EE~~nIGelh~~ITDIR~Hn@d++sD+sttt+eyhuHwhiwanrthyd?AA@U.vU~Hd@zYywyArlhrWhleuuuAIEdpHDtrrUrzv~UtvYYYYO@@aOnbbh@HAdjiUnZidSHnm@Gtttt?T?~!!@d~O~ptpmh~iUYiR@@~o@?uutdGAInwAarawWtRHHHDdDWffrhlHioanvvvhyowe@HRRnvyfl~vR@u~yEIIRU~vduD@t~iuIU@cDT@@of~DDDUOtT~.r+_.psp+tRbbfAAWelAhlew@Iuei@dd+aDiHeUAridvvvvl~kdddtdRRRRRRRRRRRRRRRRRRRRRRRRRRRRRRRRRRWtp.\n",
      "(446, 47)\n",
      "torch.Size([446, 47])\n"
     ]
    },
    {
     "ename": "KeyboardInterrupt",
     "evalue": "",
     "output_type": "error",
     "traceback": [
      "\u001b[0;31m---------------------------------------------------------------------------\u001b[0m",
      "\u001b[0;31mKeyboardInterrupt\u001b[0m                         Traceback (most recent call last)",
      "\u001b[0;32m<ipython-input-13-97ab6096c4c3>\u001b[0m in \u001b[0;36m<module>\u001b[0;34m\u001b[0m\n\u001b[1;32m     14\u001b[0m \u001b[0;34m\u001b[0m\u001b[0m\n\u001b[1;32m     15\u001b[0m         \u001b[0mdecoder\u001b[0m \u001b[0;34m=\u001b[0m \u001b[0mCTCBeamDecoder\u001b[0m\u001b[0;34m(\u001b[0m\u001b[0mp_map\u001b[0m\u001b[0;34m,\u001b[0m \u001b[0mbeam_width\u001b[0m\u001b[0;34m=\u001b[0m\u001b[0;36m100\u001b[0m\u001b[0;34m,\u001b[0m \u001b[0mblank_id\u001b[0m\u001b[0;34m=\u001b[0m\u001b[0mp_map\u001b[0m\u001b[0;34m.\u001b[0m\u001b[0mindex\u001b[0m\u001b[0;34m(\u001b[0m\u001b[0;34m'%'\u001b[0m\u001b[0;34m)\u001b[0m\u001b[0;34m)\u001b[0m\u001b[0;34m\u001b[0m\u001b[0;34m\u001b[0m\u001b[0m\n\u001b[0;32m---> 16\u001b[0;31m         \u001b[0moutput\u001b[0m\u001b[0;34m,\u001b[0m \u001b[0mscores\u001b[0m\u001b[0;34m,\u001b[0m \u001b[0mtimesteps\u001b[0m\u001b[0;34m,\u001b[0m \u001b[0mout_seq_len\u001b[0m \u001b[0;34m=\u001b[0m \u001b[0mdecoder\u001b[0m\u001b[0;34m.\u001b[0m\u001b[0mdecode\u001b[0m\u001b[0;34m(\u001b[0m\u001b[0mprobs_seq\u001b[0m\u001b[0;34m)\u001b[0m\u001b[0;34m\u001b[0m\u001b[0;34m\u001b[0m\u001b[0m\n\u001b[0m\u001b[1;32m     17\u001b[0m \u001b[0;31m#         print(out_seq_len)\u001b[0m\u001b[0;34m\u001b[0m\u001b[0;34m\u001b[0m\u001b[0;34m\u001b[0m\u001b[0m\n\u001b[1;32m     18\u001b[0m \u001b[0;31m#         print(beam_result.shape)\u001b[0m\u001b[0;34m\u001b[0m\u001b[0;34m\u001b[0m\u001b[0;34m\u001b[0m\u001b[0m\n",
      "\u001b[0;32m/opt/anaconda3/lib/python3.7/site-packages/ctcdecode/__init__.py\u001b[0m in \u001b[0;36mdecode\u001b[0;34m(self, probs, seq_lens)\u001b[0m\n\u001b[1;32m     38\u001b[0m             ctc_decode.paddle_beam_decode(probs, seq_lens, self._labels, self._num_labels, self._beam_width, self._num_processes,\n\u001b[1;32m     39\u001b[0m                                           \u001b[0mself\u001b[0m\u001b[0;34m.\u001b[0m\u001b[0m_cutoff_prob\u001b[0m\u001b[0;34m,\u001b[0m \u001b[0mself\u001b[0m\u001b[0;34m.\u001b[0m\u001b[0mcutoff_top_n\u001b[0m\u001b[0;34m,\u001b[0m \u001b[0mself\u001b[0m\u001b[0;34m.\u001b[0m\u001b[0m_blank_id\u001b[0m\u001b[0;34m,\u001b[0m \u001b[0mself\u001b[0m\u001b[0;34m.\u001b[0m\u001b[0m_log_probs\u001b[0m\u001b[0;34m,\u001b[0m\u001b[0;34m\u001b[0m\u001b[0;34m\u001b[0m\u001b[0m\n\u001b[0;32m---> 40\u001b[0;31m                                           output, timesteps, scores, out_seq_len)\n\u001b[0m\u001b[1;32m     41\u001b[0m \u001b[0;34m\u001b[0m\u001b[0m\n\u001b[1;32m     42\u001b[0m         \u001b[0;32mreturn\u001b[0m \u001b[0moutput\u001b[0m\u001b[0;34m,\u001b[0m \u001b[0mscores\u001b[0m\u001b[0;34m,\u001b[0m \u001b[0mtimesteps\u001b[0m\u001b[0;34m,\u001b[0m \u001b[0mout_seq_len\u001b[0m\u001b[0;34m\u001b[0m\u001b[0;34m\u001b[0m\u001b[0m\n",
      "\u001b[0;31mKeyboardInterrupt\u001b[0m: "
     ]
    }
   ],
   "source": [
    "# show string\n",
    "\n",
    "with torch.no_grad():\n",
    "    for inputs, targets in val_loader:\n",
    "        output = model(inputs)\n",
    "        sp = output.shape\n",
    "        output = output.reshape((sp[0], sp[2]))\n",
    "        output = output.cpu().numpy()\n",
    "        print(output.shape)\n",
    "        \n",
    "        probs_seq = torch.FloatTensor([output])\n",
    "        \n",
    "        print(probs_seq[0].shape)\n",
    "        \n",
    "        decoder = CTCBeamDecoder(p_map, beam_width=100, blank_id=p_map.index('%'))\n",
    "        output, scores, timesteps, out_seq_len = decoder.decode(probs_seq)\n",
    "#         print(out_seq_len)\n",
    "#         print(beam_result.shape)\n",
    "        for i in range(output.size(0)):\n",
    "            pred = \"\".join(p_map[o] for o in output[i, 0, :out_seq_len[i, 0]])\n",
    "        print(pred)\n",
    "#         pred_str = convert_to_string(beam_result[0][0], p_map, out_seq_len[0][0])\n",
    "        \n",
    "\n",
    "#         print(out_seq_len[0][0])\n",
    "#         print(pred_str)\n",
    "#         print(len(pred_str))\n",
    "#         print(targets)\n",
    "        \n",
    "#         true = ''.join([vocab[x] for x in tokens[0:seq_len]])\n",
    "#         true = convert_to_string(targets, p_map, len(targets))\n",
    "#         true = convert_to_string(targets, p_map, 10)\n",
    "\n",
    "#         L.distance(pred_str, true)"
   ]
  },
  {
   "cell_type": "code",
   "execution_count": null,
   "metadata": {},
   "outputs": [],
   "source": []
  }
 ],
 "metadata": {
  "kernelspec": {
   "display_name": "Python 3",
   "language": "python",
   "name": "python3"
  },
  "language_info": {
   "codemirror_mode": {
    "name": "ipython",
    "version": 3
   },
   "file_extension": ".py",
   "mimetype": "text/x-python",
   "name": "python",
   "nbconvert_exporter": "python",
   "pygments_lexer": "ipython3",
   "version": "3.7.1"
  }
 },
 "nbformat": 4,
 "nbformat_minor": 2
}
